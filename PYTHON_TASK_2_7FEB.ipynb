{
 "cells": [
  {
   "cell_type": "code",
   "execution_count": 1,
   "id": "84c2df71-0d9d-4387-8d55-3d7d927b6f74",
   "metadata": {},
   "outputs": [],
   "source": [
    "# question 1 solved below"
   ]
  },
  {
   "cell_type": "code",
   "execution_count": 2,
   "id": "4c019275-c3ad-4d0c-88af-ba1cff3bbbf8",
   "metadata": {},
   "outputs": [],
   "source": [
    "import re\n",
    "\n",
    "def check_password(password):\n",
    "  \n",
    "    if len(password) != 10:\n",
    "        return \"Invalid Password\"\n",
    "    \n",
    "    if len(re.findall('[A-Z]', password)) < 2:\n",
    "        return \"Invalid Password\"\n",
    "    \n",
    "    if len(re.findall('[a-z]', password)) < 2:\n",
    "        return \"Invalid Password\"\n",
    "    \n",
    "    if len(re.findall('[0-9]', password)) < 1:\n",
    "        return \"Invalid Password\"\n",
    "    \n",
    "    if len(re.findall('[^a-zA-Z0-9]', password)) < 3:\n",
    "        return \"Invalid Password\"\n",
    "    \n",
    "    return \"Valid Password\"\n"
   ]
  },
  {
   "cell_type": "code",
   "execution_count": 9,
   "id": "7f2b0117-ca96-4e19-8c73-d870049774ef",
   "metadata": {},
   "outputs": [
    {
     "name": "stdin",
     "output_type": "stream",
     "text": [
      "Enter password:  Abcdefg!@#123\n"
     ]
    },
    {
     "name": "stdout",
     "output_type": "stream",
     "text": [
      "Invalid Password\n"
     ]
    }
   ],
   "source": [
    "password = input(\"Enter password: \")\n",
    "result = check_password(password)\n",
    "print(result)\n"
   ]
  },
  {
   "cell_type": "code",
   "execution_count": 7,
   "id": "c92a4284-9dc7-4bc0-87bd-9a789d1b3f4e",
   "metadata": {},
   "outputs": [],
   "source": [
    "# question 2 solved below"
   ]
  },
  {
   "cell_type": "code",
   "execution_count": 10,
   "id": "76f91820-1417-4e16-b0ec-9d5d950fcbe0",
   "metadata": {},
   "outputs": [
    {
     "data": {
      "text/plain": [
       "'NOT ABLE TO SOLVE SORRY'"
      ]
     },
     "execution_count": 10,
     "metadata": {},
     "output_type": "execute_result"
    }
   ],
   "source": [
    "'''NOT ABLE TO SOLVE SORRY'''"
   ]
  },
  {
   "cell_type": "code",
   "execution_count": null,
   "id": "e14666dd-05f2-45c4-9dc4-8b68e1877d9c",
   "metadata": {},
   "outputs": [],
   "source": []
  }
 ],
 "metadata": {
  "kernelspec": {
   "display_name": "Python 3 (ipykernel)",
   "language": "python",
   "name": "python3"
  },
  "language_info": {
   "codemirror_mode": {
    "name": "ipython",
    "version": 3
   },
   "file_extension": ".py",
   "mimetype": "text/x-python",
   "name": "python",
   "nbconvert_exporter": "python",
   "pygments_lexer": "ipython3",
   "version": "3.10.8"
  }
 },
 "nbformat": 4,
 "nbformat_minor": 5
}
